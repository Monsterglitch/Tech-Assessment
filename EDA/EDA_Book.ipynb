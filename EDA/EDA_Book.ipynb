{
 "cells": [
  {
   "cell_type": "code",
   "execution_count": 1,
   "id": "1f08de14-e65a-443c-984b-9e390743d7d9",
   "metadata": {},
   "outputs": [],
   "source": [
    "import re\n",
    "import pandas as pd\n",
    "import numpy as np"
   ]
  },
  {
   "cell_type": "code",
   "execution_count": 2,
   "id": "514d97e3-18fc-4a67-974f-d6abea07ff57",
   "metadata": {},
   "outputs": [
    {
     "data": {
      "text/html": [
       "<div>\n",
       "<style scoped>\n",
       "    .dataframe tbody tr th:only-of-type {\n",
       "        vertical-align: middle;\n",
       "    }\n",
       "\n",
       "    .dataframe tbody tr th {\n",
       "        vertical-align: top;\n",
       "    }\n",
       "\n",
       "    .dataframe thead th {\n",
       "        text-align: right;\n",
       "    }\n",
       "</style>\n",
       "<table border=\"1\" class=\"dataframe\">\n",
       "  <thead>\n",
       "    <tr style=\"text-align: right;\">\n",
       "      <th></th>\n",
       "      <th>bookID</th>\n",
       "      <th>title</th>\n",
       "      <th>authors</th>\n",
       "      <th>average_rating</th>\n",
       "      <th>isbn</th>\n",
       "      <th>isbn13</th>\n",
       "      <th>language_code</th>\n",
       "      <th>num_pages</th>\n",
       "      <th>ratings_count</th>\n",
       "      <th>text_reviews_count</th>\n",
       "      <th>publication_date</th>\n",
       "      <th>publisher</th>\n",
       "      <th>Unnamed: 12</th>\n",
       "    </tr>\n",
       "  </thead>\n",
       "  <tbody>\n",
       "    <tr>\n",
       "      <th>0</th>\n",
       "      <td>1</td>\n",
       "      <td>Harry Potter and the Half-Blood Prince (Harry ...</td>\n",
       "      <td>J.K. Rowling/Mary GrandPrÌ©</td>\n",
       "      <td>4.57</td>\n",
       "      <td>439785960</td>\n",
       "      <td>9780000000000</td>\n",
       "      <td>eng</td>\n",
       "      <td>652</td>\n",
       "      <td>2095690</td>\n",
       "      <td>27591</td>\n",
       "      <td>2006-09-16 00:00:00</td>\n",
       "      <td>Scholastic Inc.</td>\n",
       "      <td>NaN</td>\n",
       "    </tr>\n",
       "    <tr>\n",
       "      <th>1</th>\n",
       "      <td>2</td>\n",
       "      <td>Harry Potter and the Order of the Phoenix (Har...</td>\n",
       "      <td>J.K. Rowling/Mary GrandPrÌ©</td>\n",
       "      <td>4.49</td>\n",
       "      <td>439358078</td>\n",
       "      <td>9780000000000</td>\n",
       "      <td>eng</td>\n",
       "      <td>870</td>\n",
       "      <td>2153167</td>\n",
       "      <td>29221</td>\n",
       "      <td>2004-09-01 00:00:00</td>\n",
       "      <td>Scholastic Inc.</td>\n",
       "      <td>NaN</td>\n",
       "    </tr>\n",
       "    <tr>\n",
       "      <th>2</th>\n",
       "      <td>4</td>\n",
       "      <td>Harry Potter and the Chamber of Secrets (Harry...</td>\n",
       "      <td>J.K. Rowling</td>\n",
       "      <td>4.42</td>\n",
       "      <td>439554896</td>\n",
       "      <td>9780000000000</td>\n",
       "      <td>eng</td>\n",
       "      <td>352</td>\n",
       "      <td>6333</td>\n",
       "      <td>244</td>\n",
       "      <td>2003-11-01 00:00:00</td>\n",
       "      <td>Scholastic</td>\n",
       "      <td>NaN</td>\n",
       "    </tr>\n",
       "    <tr>\n",
       "      <th>3</th>\n",
       "      <td>5</td>\n",
       "      <td>Harry Potter and the Prisoner of Azkaban (Harr...</td>\n",
       "      <td>J.K. Rowling/Mary GrandPrÌ©</td>\n",
       "      <td>4.56</td>\n",
       "      <td>043965548X</td>\n",
       "      <td>9780000000000</td>\n",
       "      <td>eng</td>\n",
       "      <td>435</td>\n",
       "      <td>2339585</td>\n",
       "      <td>36325</td>\n",
       "      <td>2004-05-01 00:00:00</td>\n",
       "      <td>Scholastic Inc.</td>\n",
       "      <td>NaN</td>\n",
       "    </tr>\n",
       "    <tr>\n",
       "      <th>4</th>\n",
       "      <td>8</td>\n",
       "      <td>Harry Potter Boxed Set  Books 1-5 (Harry Potte...</td>\n",
       "      <td>J.K. Rowling/Mary GrandPrÌ©</td>\n",
       "      <td>4.78</td>\n",
       "      <td>439682584</td>\n",
       "      <td>9780000000000</td>\n",
       "      <td>eng</td>\n",
       "      <td>2690</td>\n",
       "      <td>41428</td>\n",
       "      <td>164</td>\n",
       "      <td>2004-09-13 00:00:00</td>\n",
       "      <td>Scholastic</td>\n",
       "      <td>NaN</td>\n",
       "    </tr>\n",
       "  </tbody>\n",
       "</table>\n",
       "</div>"
      ],
      "text/plain": [
       "   bookID                                              title  \\\n",
       "0       1  Harry Potter and the Half-Blood Prince (Harry ...   \n",
       "1       2  Harry Potter and the Order of the Phoenix (Har...   \n",
       "2       4  Harry Potter and the Chamber of Secrets (Harry...   \n",
       "3       5  Harry Potter and the Prisoner of Azkaban (Harr...   \n",
       "4       8  Harry Potter Boxed Set  Books 1-5 (Harry Potte...   \n",
       "\n",
       "                       authors average_rating        isbn         isbn13  \\\n",
       "0  J.K. Rowling/Mary GrandPrÌ©           4.57   439785960  9780000000000   \n",
       "1  J.K. Rowling/Mary GrandPrÌ©           4.49   439358078  9780000000000   \n",
       "2                 J.K. Rowling           4.42   439554896  9780000000000   \n",
       "3  J.K. Rowling/Mary GrandPrÌ©           4.56  043965548X  9780000000000   \n",
       "4  J.K. Rowling/Mary GrandPrÌ©           4.78   439682584  9780000000000   \n",
       "\n",
       "  language_code num_pages  ratings_count  text_reviews_count  \\\n",
       "0           eng       652        2095690               27591   \n",
       "1           eng       870        2153167               29221   \n",
       "2           eng       352           6333                 244   \n",
       "3           eng       435        2339585               36325   \n",
       "4           eng      2690          41428                 164   \n",
       "\n",
       "      publication_date        publisher Unnamed: 12  \n",
       "0  2006-09-16 00:00:00  Scholastic Inc.         NaN  \n",
       "1  2004-09-01 00:00:00  Scholastic Inc.         NaN  \n",
       "2  2003-11-01 00:00:00       Scholastic         NaN  \n",
       "3  2004-05-01 00:00:00  Scholastic Inc.         NaN  \n",
       "4  2004-09-13 00:00:00       Scholastic         NaN  "
      ]
     },
     "execution_count": 2,
     "metadata": {},
     "output_type": "execute_result"
    }
   ],
   "source": [
    "df_path = \"books.xlsx\"\n",
    "temp_file = pd.read_excel(df_path)\n",
    "temp_file.to_csv(\"books.csv\", index = None, header=True)\n",
    "df = pd.DataFrame(pd.read_csv(\"books.csv\"))\n",
    "df.head()"
   ]
  },
  {
   "cell_type": "code",
   "execution_count": 3,
   "id": "7c6e4b05-306e-457a-8218-2ea98b9afe8b",
   "metadata": {},
   "outputs": [
    {
     "name": "stdout",
     "output_type": "stream",
     "text": [
      "<class 'pandas.core.frame.DataFrame'>\n",
      "RangeIndex: 11127 entries, 0 to 11126\n",
      "Data columns (total 13 columns):\n",
      " #   Column              Non-Null Count  Dtype \n",
      "---  ------              --------------  ----- \n",
      " 0   bookID              11127 non-null  int64 \n",
      " 1   title               11127 non-null  object\n",
      " 2   authors             11127 non-null  object\n",
      " 3   average_rating      11127 non-null  object\n",
      " 4   isbn                11127 non-null  object\n",
      " 5   isbn13              11127 non-null  object\n",
      " 6   language_code       11127 non-null  object\n",
      " 7   num_pages           11127 non-null  object\n",
      " 8   ratings_count       11127 non-null  int64 \n",
      " 9   text_reviews_count  11127 non-null  int64 \n",
      " 10  publication_date    11127 non-null  object\n",
      " 11  publisher           11127 non-null  object\n",
      " 12  Unnamed: 12         3 non-null      object\n",
      "dtypes: int64(3), object(10)\n",
      "memory usage: 1.1+ MB\n"
     ]
    },
    {
     "data": {
      "text/plain": [
       "(             bookID  ratings_count  text_reviews_count\n",
       " count  11127.000000   1.112700e+04        11127.000000\n",
       " mean   21310.938887   1.793647e+04          541.859531\n",
       " std    13093.358023   1.124794e+05         2576.175586\n",
       " min        1.000000   0.000000e+00            0.000000\n",
       " 25%    10287.000000   1.040000e+02            9.000000\n",
       " 50%    20287.000000   7.450000e+02           46.000000\n",
       " 75%    32104.500000   4.993500e+03          237.500000\n",
       " max    45641.000000   4.597666e+06        94265.000000,\n",
       " None,\n",
       " (11127, 13))"
      ]
     },
     "execution_count": 3,
     "metadata": {},
     "output_type": "execute_result"
    }
   ],
   "source": [
    "df.describe(), df.info(), df.shape"
   ]
  },
  {
   "cell_type": "code",
   "execution_count": 4,
   "id": "32077059-4359-4bec-bbbf-38a38dc2f5ef",
   "metadata": {},
   "outputs": [],
   "source": [
    "df.drop(['Unnamed: 12', 'isbn13'], axis = 1, inplace = True)"
   ]
  },
  {
   "cell_type": "code",
   "execution_count": 5,
   "id": "a2716a70-71b1-435c-8912-333b244fa79c",
   "metadata": {},
   "outputs": [
    {
     "data": {
      "text/plain": [
       "(Index(['bookID', 'title', 'authors', 'average_rating', 'isbn', 'language_code',\n",
       "        'num_pages', 'ratings_count', 'text_reviews_count', 'publication_date',\n",
       "        'publisher'],\n",
       "       dtype='object'),\n",
       " bookID                 int64\n",
       " title                 object\n",
       " authors               object\n",
       " average_rating        object\n",
       " isbn                  object\n",
       " language_code         object\n",
       " num_pages             object\n",
       " ratings_count          int64\n",
       " text_reviews_count     int64\n",
       " publication_date      object\n",
       " publisher             object\n",
       " dtype: object)"
      ]
     },
     "execution_count": 5,
     "metadata": {},
     "output_type": "execute_result"
    }
   ],
   "source": [
    "df.columns, df.dtypes"
   ]
  },
  {
   "cell_type": "code",
   "execution_count": 6,
   "id": "a6947844-2b6f-4330-81d8-646c470d1e2b",
   "metadata": {},
   "outputs": [
    {
     "data": {
      "text/html": [
       "<div>\n",
       "<style scoped>\n",
       "    .dataframe tbody tr th:only-of-type {\n",
       "        vertical-align: middle;\n",
       "    }\n",
       "\n",
       "    .dataframe tbody tr th {\n",
       "        vertical-align: top;\n",
       "    }\n",
       "\n",
       "    .dataframe thead th {\n",
       "        text-align: right;\n",
       "    }\n",
       "</style>\n",
       "<table border=\"1\" class=\"dataframe\">\n",
       "  <thead>\n",
       "    <tr style=\"text-align: right;\">\n",
       "      <th></th>\n",
       "      <th>bookID</th>\n",
       "      <th>title</th>\n",
       "      <th>authors</th>\n",
       "      <th>average_rating</th>\n",
       "      <th>isbn</th>\n",
       "      <th>language_code</th>\n",
       "      <th>num_pages</th>\n",
       "      <th>ratings_count</th>\n",
       "      <th>text_reviews_count</th>\n",
       "      <th>publication_date</th>\n",
       "      <th>publisher</th>\n",
       "    </tr>\n",
       "  </thead>\n",
       "  <tbody>\n",
       "    <tr>\n",
       "      <th>4702</th>\n",
       "      <td>16914</td>\n",
       "      <td>The Tolkien Fan's Medieval Reader</td>\n",
       "      <td>David E. Smith (Turgon of TheOneRing.net</td>\n",
       "      <td>one of the founding members of this Tolkien we...</td>\n",
       "      <td>3.58</td>\n",
       "      <td>9780000000000</td>\n",
       "      <td>eng</td>\n",
       "      <td>400</td>\n",
       "      <td>26</td>\n",
       "      <td>4</td>\n",
       "      <td>2004-04-06 00:00:00</td>\n",
       "    </tr>\n",
       "    <tr>\n",
       "      <th>5877</th>\n",
       "      <td>22128</td>\n",
       "      <td>Patriots (The Coming Collapse)</td>\n",
       "      <td>James Wesley</td>\n",
       "      <td>Rawles</td>\n",
       "      <td>3.63</td>\n",
       "      <td>9780000000000</td>\n",
       "      <td>eng</td>\n",
       "      <td>342</td>\n",
       "      <td>38</td>\n",
       "      <td>4</td>\n",
       "      <td>1999-01-15 00:00:00</td>\n",
       "    </tr>\n",
       "    <tr>\n",
       "      <th>8979</th>\n",
       "      <td>34889</td>\n",
       "      <td>Brown's Star Atlas: Showing All The Bright Sta...</td>\n",
       "      <td>Brown</td>\n",
       "      <td>Son &amp; Ferguson</td>\n",
       "      <td>0</td>\n",
       "      <td>9780000000000</td>\n",
       "      <td>eng</td>\n",
       "      <td>49</td>\n",
       "      <td>0</td>\n",
       "      <td>0</td>\n",
       "      <td>1977-05-01 00:00:00</td>\n",
       "    </tr>\n",
       "  </tbody>\n",
       "</table>\n",
       "</div>"
      ],
      "text/plain": [
       "      bookID                                              title  \\\n",
       "4702   16914                  The Tolkien Fan's Medieval Reader   \n",
       "5877   22128                     Patriots (The Coming Collapse)   \n",
       "8979   34889  Brown's Star Atlas: Showing All The Bright Sta...   \n",
       "\n",
       "                                       authors  \\\n",
       "4702  David E. Smith (Turgon of TheOneRing.net   \n",
       "5877                              James Wesley   \n",
       "8979                                     Brown   \n",
       "\n",
       "                                         average_rating  isbn  language_code  \\\n",
       "4702  one of the founding members of this Tolkien we...  3.58  9780000000000   \n",
       "5877                                             Rawles  3.63  9780000000000   \n",
       "8979                                     Son & Ferguson     0  9780000000000   \n",
       "\n",
       "     num_pages  ratings_count  text_reviews_count publication_date  \\\n",
       "4702       eng            400                  26                4   \n",
       "5877       eng            342                  38                4   \n",
       "8979       eng             49                   0                0   \n",
       "\n",
       "                publisher  \n",
       "4702  2004-04-06 00:00:00  \n",
       "5877  1999-01-15 00:00:00  \n",
       "8979  1977-05-01 00:00:00  "
      ]
     },
     "execution_count": 6,
     "metadata": {},
     "output_type": "execute_result"
    }
   ],
   "source": [
    "# df['language_code'].isin(val).sum()\n",
    "# df = df.astype({'average_rating':'float16'})\n",
    "# df['language_code'].unique()\n",
    "val = '9780000000000'\n",
    "df.loc[df['language_code'] == val]"
   ]
  },
  {
   "cell_type": "code",
   "execution_count": 7,
   "id": "b6a06e27-e9e8-4032-af9b-74a08031cc44",
   "metadata": {},
   "outputs": [
    {
     "data": {
      "text/plain": [
       "11124"
      ]
     },
     "execution_count": 7,
     "metadata": {},
     "output_type": "execute_result"
    }
   ],
   "source": [
    "# df['language_code'].unique()\n",
    "df['num_pages'].str.isdigit().sum()"
   ]
  },
  {
   "cell_type": "code",
   "execution_count": 71,
   "id": "6c488fa8-fab3-4ce1-a420-c0ef9ba2cbf5",
   "metadata": {},
   "outputs": [
    {
     "data": {
      "text/html": [
       "<div>\n",
       "<style scoped>\n",
       "    .dataframe tbody tr th:only-of-type {\n",
       "        vertical-align: middle;\n",
       "    }\n",
       "\n",
       "    .dataframe tbody tr th {\n",
       "        vertical-align: top;\n",
       "    }\n",
       "\n",
       "    .dataframe thead th {\n",
       "        text-align: right;\n",
       "    }\n",
       "</style>\n",
       "<table border=\"1\" class=\"dataframe\">\n",
       "  <thead>\n",
       "    <tr style=\"text-align: right;\">\n",
       "      <th></th>\n",
       "      <th>bookID</th>\n",
       "      <th>title</th>\n",
       "      <th>authors</th>\n",
       "      <th>average_rating</th>\n",
       "      <th>isbn</th>\n",
       "      <th>language_code</th>\n",
       "      <th>num_pages</th>\n",
       "      <th>ratings_count</th>\n",
       "      <th>text_reviews_count</th>\n",
       "      <th>publication_date</th>\n",
       "      <th>publisher</th>\n",
       "    </tr>\n",
       "  </thead>\n",
       "  <tbody>\n",
       "  </tbody>\n",
       "</table>\n",
       "</div>"
      ],
      "text/plain": [
       "Empty DataFrame\n",
       "Columns: [bookID, title, authors, average_rating, isbn, language_code, num_pages, ratings_count, text_reviews_count, publication_date, publisher]\n",
       "Index: []"
      ]
     },
     "execution_count": 71,
     "metadata": {},
     "output_type": "execute_result"
    }
   ],
   "source": [
    "# df[\"publication_date\"][df[\"bookID\"] == 16914] = df[\"publisher\"][df[\"bookID\"] == 16914]\n",
    "df.loc[(df['bookID'] == 16914) & (df['bookID'] == 22128) & (df['bookID'] == 34889)]"
   ]
  },
  {
   "cell_type": "code",
   "execution_count": 62,
   "id": "42be03e4-0226-40ce-a6a5-8e634dd1bc5c",
   "metadata": {},
   "outputs": [
    {
     "data": {
      "text/html": [
       "<div>\n",
       "<style scoped>\n",
       "    .dataframe tbody tr th:only-of-type {\n",
       "        vertical-align: middle;\n",
       "    }\n",
       "\n",
       "    .dataframe tbody tr th {\n",
       "        vertical-align: top;\n",
       "    }\n",
       "\n",
       "    .dataframe thead th {\n",
       "        text-align: right;\n",
       "    }\n",
       "</style>\n",
       "<table border=\"1\" class=\"dataframe\">\n",
       "  <thead>\n",
       "    <tr style=\"text-align: right;\">\n",
       "      <th></th>\n",
       "      <th>bookID</th>\n",
       "      <th>title</th>\n",
       "      <th>authors</th>\n",
       "      <th>average_rating</th>\n",
       "      <th>isbn</th>\n",
       "      <th>language_code</th>\n",
       "      <th>num_pages</th>\n",
       "      <th>ratings_count</th>\n",
       "      <th>text_reviews_count</th>\n",
       "      <th>publication_date</th>\n",
       "      <th>publisher</th>\n",
       "    </tr>\n",
       "  </thead>\n",
       "  <tbody>\n",
       "    <tr>\n",
       "      <th>4702</th>\n",
       "      <td>16914</td>\n",
       "      <td>The Tolkien Fan's Medieval Reader</td>\n",
       "      <td>David E. Smith (Turgon of TheOneRing.net</td>\n",
       "      <td>one of the founding members of this Tolkien we...</td>\n",
       "      <td>3.58</td>\n",
       "      <td>eng</td>\n",
       "      <td>299</td>\n",
       "      <td>400</td>\n",
       "      <td>26</td>\n",
       "      <td>2004-04-06 00:00:00</td>\n",
       "      <td>2004-04-06 00:00:00</td>\n",
       "    </tr>\n",
       "  </tbody>\n",
       "</table>\n",
       "</div>"
      ],
      "text/plain": [
       "      bookID                              title  \\\n",
       "4702   16914  The Tolkien Fan's Medieval Reader   \n",
       "\n",
       "                                       authors  \\\n",
       "4702  David E. Smith (Turgon of TheOneRing.net   \n",
       "\n",
       "                                         average_rating  isbn language_code  \\\n",
       "4702  one of the founding members of this Tolkien we...  3.58           eng   \n",
       "\n",
       "      num_pages  ratings_count  text_reviews_count     publication_date  \\\n",
       "4702        299            400                  26  2004-04-06 00:00:00   \n",
       "\n",
       "                publisher  \n",
       "4702  2004-04-06 00:00:00  "
      ]
     },
     "execution_count": 62,
     "metadata": {},
     "output_type": "execute_result"
    }
   ],
   "source": [
    "# list = [16914, 22128, 34889]\n",
    "# for i in list:\n",
    "    # df['language_code'][df[\"bookID\"] == i] = \"eng\"\n",
    "df.loc[df[\"bookID\"] == 16914]"
   ]
  },
  {
   "cell_type": "code",
   "execution_count": 108,
   "id": "aa0c7ac0-2c85-4599-810b-7e899589725a",
   "metadata": {},
   "outputs": [
    {
     "data": {
      "text/html": [
       "<div>\n",
       "<style scoped>\n",
       "    .dataframe tbody tr th:only-of-type {\n",
       "        vertical-align: middle;\n",
       "    }\n",
       "\n",
       "    .dataframe tbody tr th {\n",
       "        vertical-align: top;\n",
       "    }\n",
       "\n",
       "    .dataframe thead th {\n",
       "        text-align: right;\n",
       "    }\n",
       "</style>\n",
       "<table border=\"1\" class=\"dataframe\">\n",
       "  <thead>\n",
       "    <tr style=\"text-align: right;\">\n",
       "      <th></th>\n",
       "      <th>bookID</th>\n",
       "      <th>title</th>\n",
       "      <th>authors</th>\n",
       "      <th>average_rating</th>\n",
       "      <th>isbn</th>\n",
       "      <th>language_code</th>\n",
       "      <th>num_pages</th>\n",
       "      <th>ratings_count</th>\n",
       "      <th>text_reviews_count</th>\n",
       "      <th>publication_date</th>\n",
       "      <th>publisher</th>\n",
       "    </tr>\n",
       "  </thead>\n",
       "  <tbody>\n",
       "    <tr>\n",
       "      <th>5877</th>\n",
       "      <td>22128</td>\n",
       "      <td>Patriots (The Coming Collapse)</td>\n",
       "      <td>James Wesley</td>\n",
       "      <td>4.0</td>\n",
       "      <td>3.63</td>\n",
       "      <td>eng</td>\n",
       "      <td>299.0</td>\n",
       "      <td>342</td>\n",
       "      <td>38</td>\n",
       "      <td>1999-01-15 00:00:00</td>\n",
       "      <td>Unknown</td>\n",
       "    </tr>\n",
       "  </tbody>\n",
       "</table>\n",
       "</div>"
      ],
      "text/plain": [
       "      bookID                           title       authors average_rating  \\\n",
       "5877   22128  Patriots (The Coming Collapse)  James Wesley            4.0   \n",
       "\n",
       "      isbn language_code num_pages  ratings_count  text_reviews_count  \\\n",
       "5877  3.63           eng     299.0            342                  38   \n",
       "\n",
       "         publication_date publisher  \n",
       "5877  1999-01-15 00:00:00   Unknown  "
      ]
     },
     "execution_count": 108,
     "metadata": {},
     "output_type": "execute_result"
    }
   ],
   "source": [
    "# df[\"publisher\"].fillna('Unknown', inplace = True)\n",
    "# df['average_rating'][df[\"bookID\"] == 22128] = 4.0\n",
    "# df['average_rating'][df[\"bookID\"] == 16914] = 4.0\n",
    "# df['average_rating'][df[\"bookID\"] == 34889] = 4.0\n",
    "# df = df.astype({'num_pages': 'int64'})\n",
    "df.loc[df[\"bookID\"] == 22128]"
   ]
  },
  {
   "cell_type": "code",
   "execution_count": 125,
   "id": "e180c56f-2d98-487f-8e39-7207343df2b8",
   "metadata": {},
   "outputs": [
    {
     "data": {
      "text/html": [
       "<div>\n",
       "<style scoped>\n",
       "    .dataframe tbody tr th:only-of-type {\n",
       "        vertical-align: middle;\n",
       "    }\n",
       "\n",
       "    .dataframe tbody tr th {\n",
       "        vertical-align: top;\n",
       "    }\n",
       "\n",
       "    .dataframe thead th {\n",
       "        text-align: right;\n",
       "    }\n",
       "</style>\n",
       "<table border=\"1\" class=\"dataframe\">\n",
       "  <thead>\n",
       "    <tr style=\"text-align: right;\">\n",
       "      <th></th>\n",
       "      <th>bookID</th>\n",
       "      <th>title</th>\n",
       "      <th>authors</th>\n",
       "      <th>average_rating</th>\n",
       "      <th>isbn</th>\n",
       "      <th>language_code</th>\n",
       "      <th>num_pages</th>\n",
       "      <th>ratings_count</th>\n",
       "      <th>text_reviews_count</th>\n",
       "      <th>publication_date</th>\n",
       "      <th>publisher</th>\n",
       "    </tr>\n",
       "  </thead>\n",
       "  <tbody>\n",
       "    <tr>\n",
       "      <th>8180</th>\n",
       "      <td>31373</td>\n",
       "      <td>In Pursuit of the Proper Sinner (Inspector Lyn...</td>\n",
       "      <td>Elizabeth  George</td>\n",
       "      <td>4.1</td>\n",
       "      <td>553575104</td>\n",
       "      <td>eng</td>\n",
       "      <td>718</td>\n",
       "      <td>10608</td>\n",
       "      <td>295</td>\n",
       "      <td>2000-11-30 00:00:00</td>\n",
       "      <td>Bantam Books</td>\n",
       "    </tr>\n",
       "  </tbody>\n",
       "</table>\n",
       "</div>"
      ],
      "text/plain": [
       "      bookID                                              title  \\\n",
       "8180   31373  In Pursuit of the Proper Sinner (Inspector Lyn...   \n",
       "\n",
       "                authors average_rating       isbn language_code num_pages  \\\n",
       "8180  Elizabeth  George            4.1  553575104           eng       718   \n",
       "\n",
       "      ratings_count  text_reviews_count     publication_date     publisher  \n",
       "8180          10608                 295  2000-11-30 00:00:00  Bantam Books  "
      ]
     },
     "execution_count": 125,
     "metadata": {},
     "output_type": "execute_result"
    }
   ],
   "source": [
    "df.loc[df['bookID'] == 31373]"
   ]
  },
  {
   "cell_type": "code",
   "execution_count": 130,
   "id": "f0adf8e4-7ed3-4964-97b3-450ddafd90fc",
   "metadata": {},
   "outputs": [
    {
     "data": {
      "text/plain": [
       "0       2006-09-16\n",
       "1       2004-09-01\n",
       "2       2003-11-01\n",
       "3       2004-05-01\n",
       "4       2004-09-13\n",
       "           ...    \n",
       "11122   2004-12-21\n",
       "11123   1988-12-01\n",
       "11124   1993-08-01\n",
       "11125   2007-02-27\n",
       "11126   2006-05-28\n",
       "Name: publication_date, Length: 11127, dtype: datetime64[ns]"
      ]
     },
     "execution_count": 130,
     "metadata": {},
     "output_type": "execute_result"
    }
   ],
   "source": [
    "# df['publication_date'].describe()\n",
    "# df.astype({'average_rating': 'float64'})\n",
    "# pd.to_datetime(df['publication_date'])\n",
    "# df['publication_date'][df['bookID'] == 31373] = \"2000-11-30 00:00:00\"\n",
    "# df['publication_date'][df['bookID'] == 45531] = \"1982-06-30 00:00:00\"\n",
    "df.info()"
   ]
  },
  {
   "cell_type": "code",
   "execution_count": 85,
   "id": "19a3d52b-a12c-49e3-90f1-336cd91febe7",
   "metadata": {},
   "outputs": [],
   "source": [
    "# df['publication_date'].apply(lambda x: x.strftime('%d%m%Y'))"
   ]
  },
  {
   "cell_type": "code",
   "execution_count": 138,
   "id": "6baf4fce-a0fb-49fd-a536-33c8df771e31",
   "metadata": {},
   "outputs": [
    {
     "data": {
      "text/plain": [
       "775"
      ]
     },
     "execution_count": 138,
     "metadata": {},
     "output_type": "execute_result"
    }
   ],
   "source": [
    "df['title'].duplicated().sum()"
   ]
  },
  {
   "cell_type": "code",
   "execution_count": 131,
   "id": "2639e82f-84fd-4650-b8d9-faa880693eb8",
   "metadata": {},
   "outputs": [],
   "source": [
    "# df.to_csv('cleaned.csv')"
   ]
  },
  {
   "cell_type": "code",
   "execution_count": 32,
   "id": "89366df0-8b87-472f-b39c-30b9705763f9",
   "metadata": {},
   "outputs": [
    {
     "data": {
      "text/plain": [
       "array(['eng', 'en-US', 'fre', 'spa', 'en-GB', 'mul', 'grc', 'enm',\n",
       "       'en-CA', 'ger', 'jpn', 'ara', 'nl', 'zho', 'lat', 'por', 'srp',\n",
       "       'ita', 'rus', 'msa', 'glg', 'wel', 'swe', 'nor', 'tur', 'gla',\n",
       "       'ale'], dtype=object)"
      ]
     },
     "execution_count": 32,
     "metadata": {},
     "output_type": "execute_result"
    }
   ],
   "source": [
    "# df.astype({'average_rating':'str'}).info()\n",
    "# df.loc[df['average_rating'].str.istitle()]\n",
    "# df['average_rating'].str.istitle().sum()\n",
    "# df['average_rating'].str.contains(r\"^[A-Z][a-z]+\\s[a-z]+\\S*$\").sum()\n",
    "df['language_code'].unique()"
   ]
  },
  {
   "cell_type": "code",
   "execution_count": 143,
   "id": "e6951bc0-05be-475c-9c70-dd6e78c75829",
   "metadata": {},
   "outputs": [
    {
     "data": {
      "text/html": [
       "<div>\n",
       "<style scoped>\n",
       "    .dataframe tbody tr th:only-of-type {\n",
       "        vertical-align: middle;\n",
       "    }\n",
       "\n",
       "    .dataframe tbody tr th {\n",
       "        vertical-align: top;\n",
       "    }\n",
       "\n",
       "    .dataframe thead th {\n",
       "        text-align: right;\n",
       "    }\n",
       "</style>\n",
       "<table border=\"1\" class=\"dataframe\">\n",
       "  <thead>\n",
       "    <tr style=\"text-align: right;\">\n",
       "      <th></th>\n",
       "      <th>Unnamed: 0</th>\n",
       "      <th>bookID</th>\n",
       "      <th>title</th>\n",
       "      <th>authors</th>\n",
       "      <th>average_rating</th>\n",
       "      <th>isbn</th>\n",
       "      <th>language_code</th>\n",
       "      <th>num_pages</th>\n",
       "      <th>ratings_count</th>\n",
       "      <th>text_reviews_count</th>\n",
       "      <th>publication_date</th>\n",
       "      <th>publisher</th>\n",
       "    </tr>\n",
       "  </thead>\n",
       "  <tbody>\n",
       "    <tr>\n",
       "      <th>0</th>\n",
       "      <td>0</td>\n",
       "      <td>1</td>\n",
       "      <td>Harry Potter and the Half-Blood Prince (Harry ...</td>\n",
       "      <td>J.K. Rowling/Mary GrandPrÌ©</td>\n",
       "      <td>4.57</td>\n",
       "      <td>439785960</td>\n",
       "      <td>eng</td>\n",
       "      <td>652</td>\n",
       "      <td>2095690</td>\n",
       "      <td>27591</td>\n",
       "      <td>16-09-2006 00:00</td>\n",
       "      <td>Scholastic Inc.</td>\n",
       "    </tr>\n",
       "    <tr>\n",
       "      <th>1</th>\n",
       "      <td>1</td>\n",
       "      <td>2</td>\n",
       "      <td>Harry Potter and the Order of the Phoenix (Har...</td>\n",
       "      <td>J.K. Rowling/Mary GrandPrÌ©</td>\n",
       "      <td>4.49</td>\n",
       "      <td>439358078</td>\n",
       "      <td>eng</td>\n",
       "      <td>870</td>\n",
       "      <td>2153167</td>\n",
       "      <td>29221</td>\n",
       "      <td>01-09-2004 00:00</td>\n",
       "      <td>Scholastic Inc.</td>\n",
       "    </tr>\n",
       "    <tr>\n",
       "      <th>2</th>\n",
       "      <td>2</td>\n",
       "      <td>4</td>\n",
       "      <td>Harry Potter and the Chamber of Secrets (Harry...</td>\n",
       "      <td>J.K. Rowling</td>\n",
       "      <td>4.42</td>\n",
       "      <td>439554896</td>\n",
       "      <td>eng</td>\n",
       "      <td>352</td>\n",
       "      <td>6333</td>\n",
       "      <td>244</td>\n",
       "      <td>01-11-2003 00:00</td>\n",
       "      <td>Scholastic</td>\n",
       "    </tr>\n",
       "    <tr>\n",
       "      <th>3</th>\n",
       "      <td>3</td>\n",
       "      <td>5</td>\n",
       "      <td>Harry Potter and the Prisoner of Azkaban (Harr...</td>\n",
       "      <td>J.K. Rowling/Mary GrandPrÌ©</td>\n",
       "      <td>4.56</td>\n",
       "      <td>043965548X</td>\n",
       "      <td>eng</td>\n",
       "      <td>435</td>\n",
       "      <td>2339585</td>\n",
       "      <td>36325</td>\n",
       "      <td>01-05-2004 00:00</td>\n",
       "      <td>Scholastic Inc.</td>\n",
       "    </tr>\n",
       "    <tr>\n",
       "      <th>4</th>\n",
       "      <td>4</td>\n",
       "      <td>8</td>\n",
       "      <td>Harry Potter Boxed Set  Books 1-5 (Harry Potte...</td>\n",
       "      <td>J.K. Rowling/Mary GrandPrÌ©</td>\n",
       "      <td>4.78</td>\n",
       "      <td>439682584</td>\n",
       "      <td>eng</td>\n",
       "      <td>2690</td>\n",
       "      <td>41428</td>\n",
       "      <td>164</td>\n",
       "      <td>13-09-2004 00:00</td>\n",
       "      <td>Scholastic</td>\n",
       "    </tr>\n",
       "  </tbody>\n",
       "</table>\n",
       "</div>"
      ],
      "text/plain": [
       "   Unnamed: 0  bookID                                              title  \\\n",
       "0           0       1  Harry Potter and the Half-Blood Prince (Harry ...   \n",
       "1           1       2  Harry Potter and the Order of the Phoenix (Har...   \n",
       "2           2       4  Harry Potter and the Chamber of Secrets (Harry...   \n",
       "3           3       5  Harry Potter and the Prisoner of Azkaban (Harr...   \n",
       "4           4       8  Harry Potter Boxed Set  Books 1-5 (Harry Potte...   \n",
       "\n",
       "                       authors  average_rating        isbn language_code  \\\n",
       "0  J.K. Rowling/Mary GrandPrÌ©            4.57   439785960           eng   \n",
       "1  J.K. Rowling/Mary GrandPrÌ©            4.49   439358078           eng   \n",
       "2                 J.K. Rowling            4.42   439554896           eng   \n",
       "3  J.K. Rowling/Mary GrandPrÌ©            4.56  043965548X           eng   \n",
       "4  J.K. Rowling/Mary GrandPrÌ©            4.78   439682584           eng   \n",
       "\n",
       "   num_pages  ratings_count  text_reviews_count  publication_date  \\\n",
       "0        652        2095690               27591  16-09-2006 00:00   \n",
       "1        870        2153167               29221  01-09-2004 00:00   \n",
       "2        352           6333                 244  01-11-2003 00:00   \n",
       "3        435        2339585               36325  01-05-2004 00:00   \n",
       "4       2690          41428                 164  13-09-2004 00:00   \n",
       "\n",
       "         publisher  \n",
       "0  Scholastic Inc.  \n",
       "1  Scholastic Inc.  \n",
       "2       Scholastic  \n",
       "3  Scholastic Inc.  \n",
       "4       Scholastic  "
      ]
     },
     "execution_count": 143,
     "metadata": {},
     "output_type": "execute_result"
    }
   ],
   "source": [
    "df1 = pd.read_csv('cleaned.csv')\n",
    "df1.head()"
   ]
  },
  {
   "cell_type": "code",
   "execution_count": 161,
   "id": "757e3847-bec7-4dff-bf2c-0a87404a59a4",
   "metadata": {},
   "outputs": [
    {
     "name": "stderr",
     "output_type": "stream",
     "text": [
      "C:\\Users\\prath\\AppData\\Local\\Temp\\ipykernel_9512\\31400114.py:4: UserWarning: This pattern is interpreted as a regular expression, and has match groups. To actually get the groups, use str.extract.\n",
      "  df1['publisher'].str.contains(pattern).sum()\n"
     ]
    },
    {
     "data": {
      "text/plain": [
       "7995"
      ]
     },
     "execution_count": 161,
     "metadata": {},
     "output_type": "execute_result"
    }
   ],
   "source": [
    "x = \"Ḁ ḁ ἀ ἁ ἂ ἃ ἄ ἅ ἆ ἇ Ἀ Ἁ Ἂ Ἃ Ἄ Ἅ Ἆ Ἇ ạ Ả ả Ấ ấ Ầ ầ Ẩ ẩ Ẫ ẫ Ậ ậ Ắ ắ Ằ ằ Ẳ ẳ Ẵ ẵ Ặ ặ ẚ ᾰ ᾱ ᾲ ᾳ ᾴ ᾵ ᾶ ᾷ Ᾰ Ᾱ Ὰ Ά ᾼ ὰ ά ᾀ ᾁ ᾂ ᾃ ᾄ ᾅ ᾆ ᾇ ᾈ ᾉ ᾊ ᾋ ᾌ ᾍ ᾎ ᾏ ə Ḃ ḃ Ḅ ḅ Ḇ ḇ Ḉ ḉ Ḋ ḋ Ḍ ḍ Ḏ ḏ Ḑ ḑ Ḓ ḓ   Ḕ ḕ Ḗ ḗ Ḙ ḙ Ḛ ḛ Ḝ ḝ Ẹ ẹ Ẻ ẻ Ẽ ẽ Ế ế Ề ề Ể ể Ễ ễ Ệ ệ Ὲ Έ ἐ ἑ ἒ ἓ ἔ ἕ ἖ ἗ Ἐ Ἑ Ἒ Ἓ Ἔ Ἕ ὲ έ Ɇ ɇ Ḟ ḟ Ḡ ḡ Ḣ ḣ Ḥ ḥ Ḧ ḧ Ḩ ḩ Ḫ ḫ ẖ Ἠ Ħ Ἡ Ἢ Ἣ Ἤ Ἥ Ἦ Ἧ ᾘ ᾙ ᾚ ᾛ ᾜ ᾝ ᾞ ᾟ Ὴ Ή ῌ Ḭ ḭ Ḯ ḯ Ỉ ỉ Ị ị ἰ ἱ ἲ ἳ ἴ ἵ ἶ ἷ Ἰ Ἱ Ἲ Ἳ Ἴ Ἵ Ἶ Ἷ ῐ ῑ ῒ ΐ ῔ ῕ ῖ ῗ Ῐ Ῑ Ὶ Ί ὶ ί Ḱ ḱ Ḳ ḳ Ḵ ḵ Ḷ ḷ Ḹ ḹ Ḻ ḻ Ḽ ḽ   Ḿ ḿ Ṁ ṁ Ṃ ṃ Ṅ ṅ Ṇ ṇ Ṉ ṉ Ṋ ṋ ἠ ἡ ἢ ἣ ἤ ἥ ἦ ἧ ὴ ή ᾐ ᾑ ᾒ ᾓ ᾔ ᾕ ᾖ ᾗ ῂ ῃ ῄ ῅ ῆ ῇ Ṍ ṍ Ṏ ṏ Ṑ ṑ Ṓ ṓ Ọ ọ Ỏ ỏ Ố ố Ồ ồ Ổ ổ Ỗ ỗ Ộ ộ Ớ ớ Ờ ờ Ở ở Ỡ ỡ Ợ ợ ὀ ὁ ὂ ὃ ὄ ὅ ὆ ὇ Ὀ Ὁ Ὂ Ὃ Ὄ Ὅ Ὠ Ὡ Ὢ Ὣ Ὤ Ὥ Ὦ Ὧ ὸ ό ᾨ ᾩ ᾪ ᾫ ᾬ ᾭ ᾮ ᾯ Ὸ Ό Ὼ Ώ ῼ Ø ø Ṕ ṕ Ṗ ṗ ῥ ῤ Ῥ  Ṙ ṙ Ṛ ṛ Ṝ ṝ Ṟ ṟ Ṡ ṡ Ṣ ṣ Ṥ ṥ Ṧ ṧ Ṩ ṩ   ş t Ṫ ṫ Ṭ ṭ Ṯ ṯ Ṱ ṱ ẗ   Ṳ ṳ Ṵ ṵ Ṷ ṷ Ṹ ṹ Ṻ ṻ Ụ ụ Ủ ủ Ứ ứ Ừ ừ Ử ử Ữ ữ Ự ự ὐ ὑ ὒ ὓ ὔ ὕ ὖ ὗ ὺ ύ ῠ ῡ ῢ ΰ ῦ ῧ Ṽ ṽ Ṿ ṿ w Ẁ ẁ Ẃ ẃ Ẅ ẅ Ẇ ẇ Ẉ ẉ ẘ ὠ ὡ ὢ ὣ ὤ ὥ ὦ ὧ ὼ ώ ᾠ ᾡ ᾢ ᾣ ᾤ ᾥ ᾦ ᾧ ῲ ῳ ῴ ῶ ῷ Ẋ ẋ Ẍ Ã Œ Â ¤\"\n",
    "y  = x.strip()\n",
    "pattern = r\"\\b(?!\\w*(\\w)\\w*\\1)[{}]+\\b\".format(y)\n",
    "df1['publisher'].str.contains(pattern).sum()"
   ]
  },
  {
   "cell_type": "code",
   "execution_count": 172,
   "id": "fdf22589-0295-48fa-abf3-e1d18c1fcb79",
   "metadata": {},
   "outputs": [
    {
     "data": {
      "text/plain": [
       "(10731, 12)"
      ]
     },
     "execution_count": 172,
     "metadata": {},
     "output_type": "execute_result"
    }
   ],
   "source": [
    "df2 = df1[df1['title'].map(lambda x: x.isascii())]\n",
    "df3 = df2[df2['publisher'].map(lambda x: x.isascii())]\n",
    "df3.shape"
   ]
  },
  {
   "cell_type": "code",
   "execution_count": 173,
   "id": "8adf92b5-afbb-4b66-bd0d-3840cfe5248b",
   "metadata": {},
   "outputs": [],
   "source": [
    "df3.to_csv('cleaned2.csv')"
   ]
  }
 ],
 "metadata": {
  "kernelspec": {
   "display_name": "Python 3 (ipykernel)",
   "language": "python",
   "name": "python3"
  },
  "language_info": {
   "codemirror_mode": {
    "name": "ipython",
    "version": 3
   },
   "file_extension": ".py",
   "mimetype": "text/x-python",
   "name": "python",
   "nbconvert_exporter": "python",
   "pygments_lexer": "ipython3",
   "version": "3.10.7"
  }
 },
 "nbformat": 4,
 "nbformat_minor": 5
}
